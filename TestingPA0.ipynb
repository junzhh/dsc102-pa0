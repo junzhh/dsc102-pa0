{
 "cells": [
  {
   "cell_type": "code",
   "execution_count": 26,
   "id": "d421a2f7",
   "metadata": {},
   "outputs": [],
   "source": [
    "from PA0 import PA0"
   ]
  },
  {
   "cell_type": "code",
   "execution_count": 29,
   "id": "bf40f102",
   "metadata": {},
   "outputs": [
    {
     "name": "stderr",
     "output_type": "stream",
     "text": [
      "/home/ubuntu/dask_env/lib/python3.6/site-packages/distributed/node.py:155: UserWarning: Port 8787 is already in use.\n",
      "Perhaps you already have a cluster running?\n",
      "Hosting the HTTP server on port 38213 instead\n",
      "  http_address[\"port\"], self.http_server.port\n",
      "/home/ubuntu/dask_env/lib/python3.6/site-packages/dask/dataframe/core.py:3370: UserWarning: \n",
      "You did not provide metadata, so Dask is running your function on a small dataset to guess output types. It is possible that Dask will guess incorrectly.\n",
      "To provide an explicit output types or to silence this message, please provide the `meta=` keyword, as described in the map or apply function that you are using.\n",
      "  Before: .apply(func)\n",
      "  After:  .apply(func, meta=('reviewTime', 'object'))\n",
      "\n",
      "  warnings.warn(meta_warning(meta))\n"
     ]
    }
   ],
   "source": [
    "PA0('small_dataset.csv')"
   ]
  },
  {
   "cell_type": "code",
   "execution_count": 12,
   "id": "844bbaae",
   "metadata": {},
   "outputs": [],
   "source": [
    "import dask.dataframe as dd\n",
    "import pandas as pd\n",
    "from dask.distributed import Client\n",
    "import json"
   ]
  },
  {
   "cell_type": "code",
   "execution_count": 24,
   "id": "17d008df",
   "metadata": {},
   "outputs": [],
   "source": [
    "# def PA0(user_reviews_csv):\n",
    "#     client = Client()\n",
    "#     client = client.restart()\n",
    "\n",
    "#     # ensure to use the parameter name i.e user_reviews_csv instead of hardcoding the filename inside read_csv func\n",
    "#     # for eg. dd.read_csv('user_reviews_Release.csv') is hardcoding and incorrect\n",
    "#     # instead leave it as dd.read_csv(user_reviews_csv) that is the parameter as set in the function signature.\n",
    "#     df = dd.read_csv(user_reviews_csv)\n",
    "#     df2 = df.drop(['reviewText','summary','unixReviewTime','reviewerName'],axis=1)\n",
    "#     df2['reviewing_since']=df2['reviewTime'].apply(lambda x: x[-4:],meta=('reviewTime', object)).astype(int)\n",
    "#     df2['helpful_votes']=df2['helpful'].apply(lambda x:x.strip('][').split(', ')[0],meta=('helpful', object)).astype(int)\n",
    "#     df2['total_votes']=df2['helpful'].apply(lambda x:x.strip('][').split(', ')[1],meta=('helpful', object)).astype(int)\n",
    "#     n1=df2.groupby('reviewerID').agg({\"asin\": \"count\",'overall':'mean','reviewing_since':'min','helpful_votes':'sum','total_votes':'sum'})\n",
    "#     n1=n1.reset_index()\n",
    "#     n1 = n1.rename(columns={'asin':'number_products_rated','overall':\"avg_ratings\"})\n",
    "\n",
    "#     # ensure that you have replaced <YOUR_USERS_DATAFRAME> with your final dataframe.\n",
    "#     submit = n1.describe().compute().round(2)    \n",
    "# #     with open('results_PA0.json', 'w') as outfile: json.dump(json.loads(submit.to_json()), outfile)"
   ]
  },
  {
   "cell_type": "code",
   "execution_count": 28,
   "id": "053a7cc6",
   "metadata": {},
   "outputs": [
    {
     "name": "stderr",
     "output_type": "stream",
     "text": [
      "/home/ubuntu/dask_env/lib/python3.6/site-packages/distributed/node.py:155: UserWarning: Port 8787 is already in use.\n",
      "Perhaps you already have a cluster running?\n",
      "Hosting the HTTP server on port 38489 instead\n",
      "  http_address[\"port\"], self.http_server.port\n",
      "distributed.nanny - WARNING - Restarting worker\n",
      "distributed.nanny - WARNING - Restarting worker\n",
      "distributed.nanny - WARNING - Restarting worker\n",
      "distributed.nanny - WARNING - Restarting worker\n",
      "/home/ubuntu/dask_env/lib/python3.6/site-packages/dask/dataframe/core.py:3370: UserWarning: \n",
      "You did not provide metadata, so Dask is running your function on a small dataset to guess output types. It is possible that Dask will guess incorrectly.\n",
      "To provide an explicit output types or to silence this message, please provide the `meta=` keyword, as described in the map or apply function that you are using.\n",
      "  Before: .apply(func)\n",
      "  After:  .apply(func, meta=('reviewTime', 'object'))\n",
      "\n",
      "  warnings.warn(meta_warning(meta))\n"
     ]
    }
   ],
   "source": [
    "PA0('small_dataset.csv')"
   ]
  },
  {
   "cell_type": "code",
   "execution_count": 13,
   "id": "0b6897d3",
   "metadata": {},
   "outputs": [],
   "source": [
    "df = dd.read_csv('small_dataset.csv')\n",
    "df2 = df.drop(['reviewText','summary','unixReviewTime','reviewerName'],axis=1)\n",
    "df2['reviewing_since']=df2['reviewTime'].apply(lambda x: x[-4:],meta=('reviewTime', object)).astype(int)\n",
    "df2['helpful_votes']=df2['helpful'].apply(lambda x:x.strip('][').split(', ')[0],meta=('helpful', object)).astype(int)\n",
    "df2['total_votes']=df2['helpful'].apply(lambda x:x.strip('][').split(', ')[1],meta=('helpful', object)).astype(int)\n",
    "n1=df2.groupby('reviewerID').agg({\"asin\": \"count\",'overall':'mean','reviewing_since':'min','helpful_votes':'sum','total_votes':'sum'})\n",
    "n1=n1.reset_index()\n",
    "n1 = n1.rename(columns={'asin':'number_products_rated','overall':\"avg_ratings\"})"
   ]
  },
  {
   "cell_type": "code",
   "execution_count": 15,
   "id": "386c5a66",
   "metadata": {},
   "outputs": [
    {
     "data": {
      "text/html": [
       "<div>\n",
       "<style scoped>\n",
       "    .dataframe tbody tr th:only-of-type {\n",
       "        vertical-align: middle;\n",
       "    }\n",
       "\n",
       "    .dataframe tbody tr th {\n",
       "        vertical-align: top;\n",
       "    }\n",
       "\n",
       "    .dataframe thead th {\n",
       "        text-align: right;\n",
       "    }\n",
       "</style>\n",
       "<table border=\"1\" class=\"dataframe\">\n",
       "  <thead>\n",
       "    <tr style=\"text-align: right;\">\n",
       "      <th></th>\n",
       "      <th>number_products_rated</th>\n",
       "      <th>avg_ratings</th>\n",
       "      <th>reviewing_since</th>\n",
       "      <th>helpful_votes</th>\n",
       "      <th>total_votes</th>\n",
       "    </tr>\n",
       "  </thead>\n",
       "  <tbody>\n",
       "    <tr>\n",
       "      <th>count</th>\n",
       "      <td>996.000000</td>\n",
       "      <td>996.000000</td>\n",
       "      <td>996.000000</td>\n",
       "      <td>996.000000</td>\n",
       "      <td>996.000000</td>\n",
       "    </tr>\n",
       "    <tr>\n",
       "      <th>mean</th>\n",
       "      <td>1.003012</td>\n",
       "      <td>4.160643</td>\n",
       "      <td>2011.625502</td>\n",
       "      <td>1.964859</td>\n",
       "      <td>2.722892</td>\n",
       "    </tr>\n",
       "    <tr>\n",
       "      <th>std</th>\n",
       "      <td>0.070824</td>\n",
       "      <td>1.252253</td>\n",
       "      <td>3.012088</td>\n",
       "      <td>8.812267</td>\n",
       "      <td>10.157529</td>\n",
       "    </tr>\n",
       "    <tr>\n",
       "      <th>min</th>\n",
       "      <td>1.000000</td>\n",
       "      <td>1.000000</td>\n",
       "      <td>1999.000000</td>\n",
       "      <td>0.000000</td>\n",
       "      <td>0.000000</td>\n",
       "    </tr>\n",
       "    <tr>\n",
       "      <th>25%</th>\n",
       "      <td>1.000000</td>\n",
       "      <td>4.000000</td>\n",
       "      <td>2011.000000</td>\n",
       "      <td>0.000000</td>\n",
       "      <td>0.000000</td>\n",
       "    </tr>\n",
       "    <tr>\n",
       "      <th>50%</th>\n",
       "      <td>1.000000</td>\n",
       "      <td>5.000000</td>\n",
       "      <td>2013.000000</td>\n",
       "      <td>0.000000</td>\n",
       "      <td>0.000000</td>\n",
       "    </tr>\n",
       "    <tr>\n",
       "      <th>75%</th>\n",
       "      <td>1.000000</td>\n",
       "      <td>5.000000</td>\n",
       "      <td>2013.000000</td>\n",
       "      <td>1.000000</td>\n",
       "      <td>2.000000</td>\n",
       "    </tr>\n",
       "    <tr>\n",
       "      <th>max</th>\n",
       "      <td>3.000000</td>\n",
       "      <td>5.000000</td>\n",
       "      <td>2014.000000</td>\n",
       "      <td>152.000000</td>\n",
       "      <td>157.000000</td>\n",
       "    </tr>\n",
       "  </tbody>\n",
       "</table>\n",
       "</div>"
      ],
      "text/plain": [
       "       number_products_rated  avg_ratings  reviewing_since  helpful_votes  \\\n",
       "count             996.000000   996.000000       996.000000     996.000000   \n",
       "mean                1.003012     4.160643      2011.625502       1.964859   \n",
       "std                 0.070824     1.252253         3.012088       8.812267   \n",
       "min                 1.000000     1.000000      1999.000000       0.000000   \n",
       "25%                 1.000000     4.000000      2011.000000       0.000000   \n",
       "50%                 1.000000     5.000000      2013.000000       0.000000   \n",
       "75%                 1.000000     5.000000      2013.000000       1.000000   \n",
       "max                 3.000000     5.000000      2014.000000     152.000000   \n",
       "\n",
       "       total_votes  \n",
       "count   996.000000  \n",
       "mean      2.722892  \n",
       "std      10.157529  \n",
       "min       0.000000  \n",
       "25%       0.000000  \n",
       "50%       0.000000  \n",
       "75%       2.000000  \n",
       "max     157.000000  "
      ]
     },
     "execution_count": 15,
     "metadata": {},
     "output_type": "execute_result"
    }
   ],
   "source": [
    "n1.describe().compute()"
   ]
  }
 ],
 "metadata": {
  "kernelspec": {
   "display_name": "Python 3",
   "language": "python",
   "name": "python3"
  },
  "language_info": {
   "codemirror_mode": {
    "name": "ipython",
    "version": 3
   },
   "file_extension": ".py",
   "mimetype": "text/x-python",
   "name": "python",
   "nbconvert_exporter": "python",
   "pygments_lexer": "ipython3",
   "version": "3.6.9"
  }
 },
 "nbformat": 4,
 "nbformat_minor": 5
}
