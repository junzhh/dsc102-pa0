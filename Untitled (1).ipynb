{
 "cells": [
  {
   "cell_type": "code",
   "execution_count": 154,
   "id": "707cc2a4",
   "metadata": {},
   "outputs": [
    {
     "name": "stderr",
     "output_type": "stream",
     "text": [
      "/home/ubuntu/dask_env/lib/python3.6/site-packages/distributed/node.py:155: UserWarning: Port 8787 is already in use.\n",
      "Perhaps you already have a cluster running?\n",
      "Hosting the HTTP server on port 44035 instead\n",
      "  http_address[\"port\"], self.http_server.port\n"
     ]
    },
    {
     "data": {
      "text/html": [
       "<table style=\"border: 2px solid white;\">\n",
       "<tr>\n",
       "<td style=\"vertical-align: top; border: 0px solid white\">\n",
       "<h3 style=\"text-align: left;\">Client</h3>\n",
       "<ul style=\"text-align: left; list-style: none; margin: 0; padding: 0;\">\n",
       "  <li><b>Scheduler: </b>tcp://127.0.0.1:38865</li>\n",
       "  <li><b>Dashboard: </b><a href='http://127.0.0.1:44035/status' target='_blank'>http://127.0.0.1:44035/status</a></li>\n",
       "</ul>\n",
       "</td>\n",
       "<td style=\"vertical-align: top; border: 0px solid white\">\n",
       "<h3 style=\"text-align: left;\">Cluster</h3>\n",
       "<ul style=\"text-align: left; list-style:none; margin: 0; padding: 0;\">\n",
       "  <li><b>Workers: </b>4</li>\n",
       "  <li><b>Cores: </b>4</li>\n",
       "  <li><b>Memory: </b>16.78 GB</li>\n",
       "</ul>\n",
       "</td>\n",
       "</tr>\n",
       "</table>"
      ],
      "text/plain": [
       "<Client: 'tcp://127.0.0.1:38865' processes=4 threads=4, memory=16.78 GB>"
      ]
     },
     "execution_count": 154,
     "metadata": {},
     "output_type": "execute_result"
    }
   ],
   "source": [
    "from dask.distributed import Client\n",
    "import dask.dataframe as dd\n",
    "\n",
    "client=Client()\n",
    "client"
   ]
  },
  {
   "cell_type": "code",
   "execution_count": 155,
   "id": "bf5e77c3",
   "metadata": {},
   "outputs": [],
   "source": [
    "import pandas as pd"
   ]
  },
  {
   "cell_type": "code",
   "execution_count": 156,
   "id": "cf2205e7",
   "metadata": {},
   "outputs": [],
   "source": [
    "!head -1000 user_reviews_Release.csv > small_dataset.csv"
   ]
  },
  {
   "cell_type": "code",
   "execution_count": 157,
   "id": "9272aea5",
   "metadata": {},
   "outputs": [],
   "source": [
    "df = dd.read_csv('small_dataset.csv')"
   ]
  },
  {
   "cell_type": "code",
   "execution_count": 158,
   "id": "c2a32465",
   "metadata": {},
   "outputs": [
    {
     "data": {
      "text/plain": [
       "dask.dataframe.core.DataFrame"
      ]
     },
     "execution_count": 158,
     "metadata": {},
     "output_type": "execute_result"
    }
   ],
   "source": [
    "type(df)"
   ]
  },
  {
   "cell_type": "code",
   "execution_count": 159,
   "id": "159a0713",
   "metadata": {},
   "outputs": [
    {
     "data": {
      "text/plain": [
       "pandas.core.frame.DataFrame"
      ]
     },
     "execution_count": 159,
     "metadata": {},
     "output_type": "execute_result"
    }
   ],
   "source": [
    "type(df.head())"
   ]
  },
  {
   "cell_type": "code",
   "execution_count": 160,
   "id": "73737138",
   "metadata": {},
   "outputs": [
    {
     "data": {
      "text/html": [
       "<div><strong>Dask DataFrame Structure:</strong></div>\n",
       "<div>\n",
       "<style scoped>\n",
       "    .dataframe tbody tr th:only-of-type {\n",
       "        vertical-align: middle;\n",
       "    }\n",
       "\n",
       "    .dataframe tbody tr th {\n",
       "        vertical-align: top;\n",
       "    }\n",
       "\n",
       "    .dataframe thead th {\n",
       "        text-align: right;\n",
       "    }\n",
       "</style>\n",
       "<table border=\"1\" class=\"dataframe\">\n",
       "  <thead>\n",
       "    <tr style=\"text-align: right;\">\n",
       "      <th></th>\n",
       "      <th>reviewerID</th>\n",
       "      <th>asin</th>\n",
       "      <th>reviewerName</th>\n",
       "      <th>helpful</th>\n",
       "      <th>reviewText</th>\n",
       "      <th>overall</th>\n",
       "      <th>summary</th>\n",
       "      <th>unixReviewTime</th>\n",
       "      <th>reviewTime</th>\n",
       "    </tr>\n",
       "    <tr>\n",
       "      <th>npartitions=1</th>\n",
       "      <th></th>\n",
       "      <th></th>\n",
       "      <th></th>\n",
       "      <th></th>\n",
       "      <th></th>\n",
       "      <th></th>\n",
       "      <th></th>\n",
       "      <th></th>\n",
       "      <th></th>\n",
       "    </tr>\n",
       "  </thead>\n",
       "  <tbody>\n",
       "    <tr>\n",
       "      <th></th>\n",
       "      <td>object</td>\n",
       "      <td>object</td>\n",
       "      <td>object</td>\n",
       "      <td>object</td>\n",
       "      <td>object</td>\n",
       "      <td>float64</td>\n",
       "      <td>object</td>\n",
       "      <td>float64</td>\n",
       "      <td>object</td>\n",
       "    </tr>\n",
       "    <tr>\n",
       "      <th></th>\n",
       "      <td>...</td>\n",
       "      <td>...</td>\n",
       "      <td>...</td>\n",
       "      <td>...</td>\n",
       "      <td>...</td>\n",
       "      <td>...</td>\n",
       "      <td>...</td>\n",
       "      <td>...</td>\n",
       "      <td>...</td>\n",
       "    </tr>\n",
       "  </tbody>\n",
       "</table>\n",
       "</div>\n",
       "<div>Dask Name: read-csv, 1 tasks</div>"
      ],
      "text/plain": [
       "Dask DataFrame Structure:\n",
       "              reviewerID    asin reviewerName helpful reviewText  overall summary unixReviewTime reviewTime\n",
       "npartitions=1                                                                                              \n",
       "                  object  object       object  object     object  float64  object        float64     object\n",
       "                     ...     ...          ...     ...        ...      ...     ...            ...        ...\n",
       "Dask Name: read-csv, 1 tasks"
      ]
     },
     "execution_count": 160,
     "metadata": {},
     "output_type": "execute_result"
    }
   ],
   "source": [
    "df"
   ]
  },
  {
   "cell_type": "code",
   "execution_count": 161,
   "id": "6dece13a",
   "metadata": {},
   "outputs": [
    {
     "data": {
      "text/html": [
       "<div>\n",
       "<style scoped>\n",
       "    .dataframe tbody tr th:only-of-type {\n",
       "        vertical-align: middle;\n",
       "    }\n",
       "\n",
       "    .dataframe tbody tr th {\n",
       "        vertical-align: top;\n",
       "    }\n",
       "\n",
       "    .dataframe thead th {\n",
       "        text-align: right;\n",
       "    }\n",
       "</style>\n",
       "<table border=\"1\" class=\"dataframe\">\n",
       "  <thead>\n",
       "    <tr style=\"text-align: right;\">\n",
       "      <th></th>\n",
       "      <th>reviewerID</th>\n",
       "      <th>asin</th>\n",
       "      <th>reviewerName</th>\n",
       "      <th>helpful</th>\n",
       "      <th>reviewText</th>\n",
       "      <th>overall</th>\n",
       "      <th>summary</th>\n",
       "      <th>unixReviewTime</th>\n",
       "      <th>reviewTime</th>\n",
       "    </tr>\n",
       "  </thead>\n",
       "  <tbody>\n",
       "    <tr>\n",
       "      <th>0</th>\n",
       "      <td>A2T0RJ91B0PQ03</td>\n",
       "      <td>B0016CRVLW</td>\n",
       "      <td>Gerald DeWitt</td>\n",
       "      <td>[0, 0]</td>\n",
       "      <td>Beware!  This is NOT the original single versi...</td>\n",
       "      <td>1.0</td>\n",
       "      <td>Poor Quality Alternate Take</td>\n",
       "      <td>1.400630e+09</td>\n",
       "      <td>05 21, 2014</td>\n",
       "    </tr>\n",
       "    <tr>\n",
       "      <th>1</th>\n",
       "      <td>A3TYW0XA8HSGWB</td>\n",
       "      <td>B00EKR5S0Q</td>\n",
       "      <td>Linda E. Larson</td>\n",
       "      <td>[0, 0]</td>\n",
       "      <td>This is my new most favorite k-cup coffee. I c...</td>\n",
       "      <td>5.0</td>\n",
       "      <td>Vanilla Starbucks K-cups</td>\n",
       "      <td>1.398557e+09</td>\n",
       "      <td>04 27, 2014</td>\n",
       "    </tr>\n",
       "    <tr>\n",
       "      <th>2</th>\n",
       "      <td>A2CME0TQU2IVVB</td>\n",
       "      <td>B001AUPJVO</td>\n",
       "      <td>L5Momma</td>\n",
       "      <td>[1, 1]</td>\n",
       "      <td>This headset is great!  It worked in our 2007 ...</td>\n",
       "      <td>5.0</td>\n",
       "      <td>Awesome!</td>\n",
       "      <td>1.355875e+09</td>\n",
       "      <td>12 19, 2012</td>\n",
       "    </tr>\n",
       "    <tr>\n",
       "      <th>3</th>\n",
       "      <td>A2E5IDLX7R388S</td>\n",
       "      <td>B000055Y57</td>\n",
       "      <td>Jeff Andersen</td>\n",
       "      <td>[0, 0]</td>\n",
       "      <td>Scofield is one of my favorite musicians and i...</td>\n",
       "      <td>5.0</td>\n",
       "      <td>Straight ahead Jazz with the Scofield twist</td>\n",
       "      <td>1.402358e+09</td>\n",
       "      <td>06 10, 2014</td>\n",
       "    </tr>\n",
       "    <tr>\n",
       "      <th>4</th>\n",
       "      <td>A3CIEMYUGV6ZMR</td>\n",
       "      <td>0545265355</td>\n",
       "      <td>Adroit</td>\n",
       "      <td>[0, 0]</td>\n",
       "      <td>Wonderful book! I cried, well teared up at a f...</td>\n",
       "      <td>5.0</td>\n",
       "      <td>Greatest Book Ever!!!</td>\n",
       "      <td>1.334102e+09</td>\n",
       "      <td>04 11, 2012</td>\n",
       "    </tr>\n",
       "  </tbody>\n",
       "</table>\n",
       "</div>"
      ],
      "text/plain": [
       "       reviewerID        asin     reviewerName helpful  \\\n",
       "0  A2T0RJ91B0PQ03  B0016CRVLW    Gerald DeWitt  [0, 0]   \n",
       "1  A3TYW0XA8HSGWB  B00EKR5S0Q  Linda E. Larson  [0, 0]   \n",
       "2  A2CME0TQU2IVVB  B001AUPJVO          L5Momma  [1, 1]   \n",
       "3  A2E5IDLX7R388S  B000055Y57    Jeff Andersen  [0, 0]   \n",
       "4  A3CIEMYUGV6ZMR  0545265355           Adroit  [0, 0]   \n",
       "\n",
       "                                          reviewText  overall  \\\n",
       "0  Beware!  This is NOT the original single versi...      1.0   \n",
       "1  This is my new most favorite k-cup coffee. I c...      5.0   \n",
       "2  This headset is great!  It worked in our 2007 ...      5.0   \n",
       "3  Scofield is one of my favorite musicians and i...      5.0   \n",
       "4  Wonderful book! I cried, well teared up at a f...      5.0   \n",
       "\n",
       "                                       summary  unixReviewTime   reviewTime  \n",
       "0                  Poor Quality Alternate Take    1.400630e+09  05 21, 2014  \n",
       "1                     Vanilla Starbucks K-cups    1.398557e+09  04 27, 2014  \n",
       "2                                     Awesome!    1.355875e+09  12 19, 2012  \n",
       "3  Straight ahead Jazz with the Scofield twist    1.402358e+09  06 10, 2014  \n",
       "4                        Greatest Book Ever!!!    1.334102e+09  04 11, 2012  "
      ]
     },
     "execution_count": 161,
     "metadata": {},
     "output_type": "execute_result"
    }
   ],
   "source": [
    "df.head()"
   ]
  },
  {
   "cell_type": "code",
   "execution_count": 162,
   "id": "6f22c38e",
   "metadata": {},
   "outputs": [
    {
     "data": {
      "text/plain": [
       "dask.dataframe.core.DataFrame"
      ]
     },
     "execution_count": 162,
     "metadata": {},
     "output_type": "execute_result"
    }
   ],
   "source": [
    "type(df)"
   ]
  },
  {
   "cell_type": "code",
   "execution_count": 163,
   "id": "08392a75",
   "metadata": {},
   "outputs": [
    {
     "data": {
      "text/plain": [
       "Dask Series Structure:\n",
       "npartitions=1\n",
       "    object\n",
       "       ...\n",
       "Name: helpful, dtype: object\n",
       "Dask Name: getitem, 2 tasks"
      ]
     },
     "execution_count": 163,
     "metadata": {},
     "output_type": "execute_result"
    }
   ],
   "source": [
    "df['helpful']"
   ]
  },
  {
   "cell_type": "code",
   "execution_count": 164,
   "id": "2189200e",
   "metadata": {},
   "outputs": [
    {
     "data": {
      "text/plain": [
       "reviewerID         object\n",
       "asin               object\n",
       "reviewerName       object\n",
       "helpful            object\n",
       "reviewText         object\n",
       "overall           float64\n",
       "summary            object\n",
       "unixReviewTime    float64\n",
       "reviewTime         object\n",
       "dtype: object"
      ]
     },
     "execution_count": 164,
     "metadata": {},
     "output_type": "execute_result"
    }
   ],
   "source": [
    "df.dtypes"
   ]
  },
  {
   "cell_type": "code",
   "execution_count": null,
   "id": "ddd6c6d1",
   "metadata": {},
   "outputs": [],
   "source": [
    "df[]#keep subset of column"
   ]
  },
  {
   "cell_type": "code",
   "execution_count": 165,
   "id": "80a39f27",
   "metadata": {},
   "outputs": [],
   "source": [
    "df['reviewing_since']=dd.to_datetime(df['reviewTime'], infer_datetime_format=True)"
   ]
  },
  {
   "cell_type": "code",
   "execution_count": 166,
   "id": "244aa97e",
   "metadata": {},
   "outputs": [],
   "source": [
    "df['helpful_votes']=df['helpful'].apply(lambda x:x.strip('][').split(', ')[0],meta=('helpful', object)).astype(int)"
   ]
  },
  {
   "cell_type": "code",
   "execution_count": 167,
   "id": "8873fd66",
   "metadata": {},
   "outputs": [],
   "source": [
    "df['total_votes']=df['helpful'].apply(lambda x:x.strip('][').split(', ')[1],meta=('helpful', object)).astype(int)"
   ]
  },
  {
   "cell_type": "code",
   "execution_count": 168,
   "id": "7e8ba69d",
   "metadata": {},
   "outputs": [
    {
     "data": {
      "text/plain": [
       "0        0\n",
       "1        0\n",
       "2        1\n",
       "3        0\n",
       "4        0\n",
       "      ... \n",
       "994      1\n",
       "995     16\n",
       "996      2\n",
       "997    106\n",
       "998      2\n",
       "Name: total_votes, Length: 999, dtype: int64"
      ]
     },
     "execution_count": 168,
     "metadata": {},
     "output_type": "execute_result"
    }
   ],
   "source": [
    "df['total_votes'].compute()"
   ]
  },
  {
   "cell_type": "code",
   "execution_count": 169,
   "id": "83a3d1b0",
   "metadata": {},
   "outputs": [
    {
     "data": {
      "text/plain": [
       "reviewerID                 object\n",
       "asin                       object\n",
       "reviewerName               object\n",
       "helpful                    object\n",
       "reviewText                 object\n",
       "overall                   float64\n",
       "summary                    object\n",
       "unixReviewTime            float64\n",
       "reviewTime                 object\n",
       "reviewing_since    datetime64[ns]\n",
       "helpful_votes               int64\n",
       "total_votes                 int64\n",
       "dtype: object"
      ]
     },
     "execution_count": 169,
     "metadata": {},
     "output_type": "execute_result"
    }
   ],
   "source": [
    "df.dtypes"
   ]
  },
  {
   "cell_type": "code",
   "execution_count": 75,
   "id": "cdedd356",
   "metadata": {},
   "outputs": [],
   "source": [
    "# dd.to_datetime(df['reviewTime'],infer_datetime_format=True)"
   ]
  },
  {
   "cell_type": "code",
   "execution_count": 173,
   "id": "77fd20aa",
   "metadata": {},
   "outputs": [
    {
     "data": {
      "text/html": [
       "<div>\n",
       "<style scoped>\n",
       "    .dataframe tbody tr th:only-of-type {\n",
       "        vertical-align: middle;\n",
       "    }\n",
       "\n",
       "    .dataframe tbody tr th {\n",
       "        vertical-align: top;\n",
       "    }\n",
       "\n",
       "    .dataframe thead th {\n",
       "        text-align: right;\n",
       "    }\n",
       "</style>\n",
       "<table border=\"1\" class=\"dataframe\">\n",
       "  <thead>\n",
       "    <tr style=\"text-align: right;\">\n",
       "      <th></th>\n",
       "      <th>asin</th>\n",
       "      <th>overall</th>\n",
       "      <th>reviewing_since</th>\n",
       "      <th>helpful_votes</th>\n",
       "      <th>total_votes</th>\n",
       "    </tr>\n",
       "    <tr>\n",
       "      <th>reviewerID</th>\n",
       "      <th></th>\n",
       "      <th></th>\n",
       "      <th></th>\n",
       "      <th></th>\n",
       "      <th></th>\n",
       "    </tr>\n",
       "  </thead>\n",
       "  <tbody>\n",
       "    <tr>\n",
       "      <th>A103QHKN9QHCU9</th>\n",
       "      <td>1</td>\n",
       "      <td>3.0</td>\n",
       "      <td>2013-08-19</td>\n",
       "      <td>0</td>\n",
       "      <td>0</td>\n",
       "    </tr>\n",
       "    <tr>\n",
       "      <th>A104WVGG8GI609</th>\n",
       "      <td>1</td>\n",
       "      <td>5.0</td>\n",
       "      <td>2010-04-22</td>\n",
       "      <td>8</td>\n",
       "      <td>9</td>\n",
       "    </tr>\n",
       "    <tr>\n",
       "      <th>A10BR9ISEW4LCX</th>\n",
       "      <td>1</td>\n",
       "      <td>1.0</td>\n",
       "      <td>2013-10-30</td>\n",
       "      <td>4</td>\n",
       "      <td>5</td>\n",
       "    </tr>\n",
       "    <tr>\n",
       "      <th>A10C6BUTUFKG8B</th>\n",
       "      <td>1</td>\n",
       "      <td>5.0</td>\n",
       "      <td>2014-06-12</td>\n",
       "      <td>0</td>\n",
       "      <td>0</td>\n",
       "    </tr>\n",
       "    <tr>\n",
       "      <th>A10DBF0BWGNZGZ</th>\n",
       "      <td>1</td>\n",
       "      <td>5.0</td>\n",
       "      <td>2013-06-17</td>\n",
       "      <td>0</td>\n",
       "      <td>0</td>\n",
       "    </tr>\n",
       "    <tr>\n",
       "      <th>...</th>\n",
       "      <td>...</td>\n",
       "      <td>...</td>\n",
       "      <td>...</td>\n",
       "      <td>...</td>\n",
       "      <td>...</td>\n",
       "    </tr>\n",
       "    <tr>\n",
       "      <th>AYVZWQKO3LEHE</th>\n",
       "      <td>1</td>\n",
       "      <td>5.0</td>\n",
       "      <td>2013-03-02</td>\n",
       "      <td>0</td>\n",
       "      <td>0</td>\n",
       "    </tr>\n",
       "    <tr>\n",
       "      <th>AZLEIK93TH0RP</th>\n",
       "      <td>1</td>\n",
       "      <td>5.0</td>\n",
       "      <td>2013-02-20</td>\n",
       "      <td>1</td>\n",
       "      <td>1</td>\n",
       "    </tr>\n",
       "    <tr>\n",
       "      <th>AZOPFCTZW22JO</th>\n",
       "      <td>1</td>\n",
       "      <td>1.0</td>\n",
       "      <td>2008-06-07</td>\n",
       "      <td>2</td>\n",
       "      <td>2</td>\n",
       "    </tr>\n",
       "    <tr>\n",
       "      <th>AZPUTEGEB832Z</th>\n",
       "      <td>1</td>\n",
       "      <td>5.0</td>\n",
       "      <td>2013-04-29</td>\n",
       "      <td>0</td>\n",
       "      <td>0</td>\n",
       "    </tr>\n",
       "    <tr>\n",
       "      <th>AZXIVW59NBUC3</th>\n",
       "      <td>1</td>\n",
       "      <td>5.0</td>\n",
       "      <td>2011-12-29</td>\n",
       "      <td>0</td>\n",
       "      <td>1</td>\n",
       "    </tr>\n",
       "  </tbody>\n",
       "</table>\n",
       "<p>996 rows × 5 columns</p>\n",
       "</div>"
      ],
      "text/plain": [
       "                asin  overall reviewing_since  helpful_votes  total_votes\n",
       "reviewerID                                                               \n",
       "A103QHKN9QHCU9     1      3.0      2013-08-19              0            0\n",
       "A104WVGG8GI609     1      5.0      2010-04-22              8            9\n",
       "A10BR9ISEW4LCX     1      1.0      2013-10-30              4            5\n",
       "A10C6BUTUFKG8B     1      5.0      2014-06-12              0            0\n",
       "A10DBF0BWGNZGZ     1      5.0      2013-06-17              0            0\n",
       "...              ...      ...             ...            ...          ...\n",
       "AYVZWQKO3LEHE      1      5.0      2013-03-02              0            0\n",
       "AZLEIK93TH0RP      1      5.0      2013-02-20              1            1\n",
       "AZOPFCTZW22JO      1      1.0      2008-06-07              2            2\n",
       "AZPUTEGEB832Z      1      5.0      2013-04-29              0            0\n",
       "AZXIVW59NBUC3      1      5.0      2011-12-29              0            1\n",
       "\n",
       "[996 rows x 5 columns]"
      ]
     },
     "execution_count": 173,
     "metadata": {},
     "output_type": "execute_result"
    }
   ],
   "source": [
    "n1=df.groupby('reviewerID').agg({\"asin\": \"count\",'overall':'mean','reviewing_since':'min','helpful_votes':'sum','total_votes':'sum'}).compute()\n",
    "n1"
   ]
  },
  {
   "cell_type": "code",
   "execution_count": 175,
   "id": "e0f5b1bd",
   "metadata": {},
   "outputs": [
    {
     "data": {
      "text/html": [
       "<div>\n",
       "<style scoped>\n",
       "    .dataframe tbody tr th:only-of-type {\n",
       "        vertical-align: middle;\n",
       "    }\n",
       "\n",
       "    .dataframe tbody tr th {\n",
       "        vertical-align: top;\n",
       "    }\n",
       "\n",
       "    .dataframe thead th {\n",
       "        text-align: right;\n",
       "    }\n",
       "</style>\n",
       "<table border=\"1\" class=\"dataframe\">\n",
       "  <thead>\n",
       "    <tr style=\"text-align: right;\">\n",
       "      <th></th>\n",
       "      <th>asin</th>\n",
       "      <th>overall</th>\n",
       "      <th>helpful_votes</th>\n",
       "      <th>total_votes</th>\n",
       "    </tr>\n",
       "  </thead>\n",
       "  <tbody>\n",
       "    <tr>\n",
       "      <th>count</th>\n",
       "      <td>996.000000</td>\n",
       "      <td>996.000000</td>\n",
       "      <td>996.000000</td>\n",
       "      <td>996.000000</td>\n",
       "    </tr>\n",
       "    <tr>\n",
       "      <th>mean</th>\n",
       "      <td>1.003012</td>\n",
       "      <td>4.160643</td>\n",
       "      <td>1.964859</td>\n",
       "      <td>2.722892</td>\n",
       "    </tr>\n",
       "    <tr>\n",
       "      <th>std</th>\n",
       "      <td>0.070824</td>\n",
       "      <td>1.252253</td>\n",
       "      <td>8.812267</td>\n",
       "      <td>10.157529</td>\n",
       "    </tr>\n",
       "    <tr>\n",
       "      <th>min</th>\n",
       "      <td>1.000000</td>\n",
       "      <td>1.000000</td>\n",
       "      <td>0.000000</td>\n",
       "      <td>0.000000</td>\n",
       "    </tr>\n",
       "    <tr>\n",
       "      <th>25%</th>\n",
       "      <td>1.000000</td>\n",
       "      <td>4.000000</td>\n",
       "      <td>0.000000</td>\n",
       "      <td>0.000000</td>\n",
       "    </tr>\n",
       "    <tr>\n",
       "      <th>50%</th>\n",
       "      <td>1.000000</td>\n",
       "      <td>5.000000</td>\n",
       "      <td>0.000000</td>\n",
       "      <td>0.000000</td>\n",
       "    </tr>\n",
       "    <tr>\n",
       "      <th>75%</th>\n",
       "      <td>1.000000</td>\n",
       "      <td>5.000000</td>\n",
       "      <td>1.000000</td>\n",
       "      <td>2.000000</td>\n",
       "    </tr>\n",
       "    <tr>\n",
       "      <th>max</th>\n",
       "      <td>3.000000</td>\n",
       "      <td>5.000000</td>\n",
       "      <td>152.000000</td>\n",
       "      <td>157.000000</td>\n",
       "    </tr>\n",
       "  </tbody>\n",
       "</table>\n",
       "</div>"
      ],
      "text/plain": [
       "             asin     overall  helpful_votes  total_votes\n",
       "count  996.000000  996.000000     996.000000   996.000000\n",
       "mean     1.003012    4.160643       1.964859     2.722892\n",
       "std      0.070824    1.252253       8.812267    10.157529\n",
       "min      1.000000    1.000000       0.000000     0.000000\n",
       "25%      1.000000    4.000000       0.000000     0.000000\n",
       "50%      1.000000    5.000000       0.000000     0.000000\n",
       "75%      1.000000    5.000000       1.000000     2.000000\n",
       "max      3.000000    5.000000     152.000000   157.000000"
      ]
     },
     "execution_count": 175,
     "metadata": {},
     "output_type": "execute_result"
    }
   ],
   "source": [
    "n1.reset_index().describe()"
   ]
  },
  {
   "cell_type": "code",
   "execution_count": null,
   "id": "3986ad46",
   "metadata": {},
   "outputs": [],
   "source": []
  },
  {
   "cell_type": "code",
   "execution_count": null,
   "id": "90d6b909",
   "metadata": {},
   "outputs": [],
   "source": [
    "n2=df.groupby('reviewerID').agg({\"\": \"count\"}).compute()"
   ]
  },
  {
   "cell_type": "code",
   "execution_count": 40,
   "id": "fb6d9188",
   "metadata": {},
   "outputs": [
    {
     "data": {
      "text/plain": [
       "asin    1.003012\n",
       "dtype: float64"
      ]
     },
     "execution_count": 40,
     "metadata": {},
     "output_type": "execute_result"
    }
   ],
   "source": [
    "avg_number_of_product_rate=n1.mean()\n",
    "avg_number_of_product_rate"
   ]
  },
  {
   "cell_type": "code",
   "execution_count": 46,
   "id": "63c2599b",
   "metadata": {},
   "outputs": [
    {
     "data": {
      "text/plain": [
       "array([996.])"
      ]
     },
     "execution_count": 46,
     "metadata": {},
     "output_type": "execute_result"
    }
   ],
   "source": [
    "n1.describe().loc['count'].values"
   ]
  },
  {
   "cell_type": "code",
   "execution_count": null,
   "id": "b0a69243",
   "metadata": {},
   "outputs": [],
   "source": []
  }
 ],
 "metadata": {
  "kernelspec": {
   "display_name": "Python 3",
   "language": "python",
   "name": "python3"
  },
  "language_info": {
   "codemirror_mode": {
    "name": "ipython",
    "version": 3
   },
   "file_extension": ".py",
   "mimetype": "text/x-python",
   "name": "python",
   "nbconvert_exporter": "python",
   "pygments_lexer": "ipython3",
   "version": "3.6.9"
  }
 },
 "nbformat": 4,
 "nbformat_minor": 5
}
